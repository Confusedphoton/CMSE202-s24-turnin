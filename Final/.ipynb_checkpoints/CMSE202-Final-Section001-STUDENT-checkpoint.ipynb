{
 "cells": [
  {
   "cell_type": "markdown",
   "metadata": {},
   "source": [
    "## <p style=\"text-align: right;\"> &#9989; Joseph Mazor</p>"
   ]
  },
  {
   "cell_type": "markdown",
   "metadata": {},
   "source": [
    "# CMSE 202 Final (Section 001- Spring 2024)\n",
    "\n",
    "The goal of this final is to give you the opportunity to test out some of the skills that you've developed having now finished CMSE 202. In particular, you'll be committing and pushing repository changes to a GitHub repository, working with data to build a network graph, performing regression analysis, and classifying data using a machine learning classifier. You should find that you have all of the skills necessary to complete this exam having completed the second half of CMSE 202!\n",
    "\n",
    "You are encouraged to look through the entire exam before you get started so that you can appropriately budget your time and understand the broad goals of the exam. Once you've read through it, you'll probably want to make sure you do Part 1 first to ensure that your GitHub repository is working correctly. Let your instructor know right away if you run into issues!\n",
    "\n",
    "The exam is set up so that even if you get stuck on one part there are opportunities to get points on the other parts, so consider jumping ahead if you feel like you aren't making progress and then come back later if you have time.\n",
    "\n",
    "**Important note about using online resources**: This exam is \"open internet\". That means that you can look up documentation, google how to accomplish certain Python tasks, etc. Being able to effectively use the internet for computational modeling and data science is a very important skill, so we want to make sure you have the opportunity to exercise that skill. You can also use _your version_ of past CMSE 202 assignments and the CMSE 202 course materials as a resource! **However: The use of any person-to-person communication software or generative AI tools is absolutely not acceptable.** If you are seen accessing your email, using a collaborative cloud storage or document software (e.g. Slack, Google Documents), or generative AIs (e.g. ChatGPT), you will be at risk for receiving a zero on the exam.\n",
    "\n",
    "**Keep your eyes on your screen!** Unfortunately, there isn't enough space in the room for everyone to sit at their own table so please do your best to keep your eyes on your own screen. This exam is designed to give *you* the opportunity to show the instructor what you can do and you should hold yourself accountable for maintaining a high level of academic integrity. If any of the instructors observe suspicious behavior, you will, again, risk receiving a zero. If you're completing the exam virtually, the same standards of academic integrity apply!"
   ]
  },
  {
   "cell_type": "markdown",
   "metadata": {},
   "source": [
    "---\n",
    "## Part 0: Academic integrity statement\n",
    "\n",
    "Read the following statement and edit the markdown text to put your name in the statement. This is your commitment to doing your own authentic work on this exam."
   ]
  },
  {
   "cell_type": "markdown",
   "metadata": {},
   "source": [
    "> I, Joseph Mazor, affirm that this exam represents my own authetic work, without the use of any unpermitted aids or resources or person-to-person communication. I understand that this exam an an opportunity to showcase my own progress in developing and improving my computational skills and have done my best to demonstrate those skills."
   ]
  },
  {
   "cell_type": "markdown",
   "metadata": {},
   "source": [
    "---\n",
    "## Part 1: Add to your Git repository to track your progress on your exam (2 points)\n",
    "\n",
    "Before you get to far along in the exam, you're going to add it to the `cmse202-s24-turnin` repository you created in class so that you can track your progress on the exam and preserve the final version that you turn in. In order to do this you need to\n",
    "\n",
    "**&#9989; Do the following**:\n",
    "\n",
    "1. Navigate to your `cmse202-s24-turnin` repository and create a new directory called `final`.\n",
    "2. Move this notebook into that **new directory** in your repository, then **add it and commit it to your repository**.\n",
    "1. Finally, to test that everything is working, \"git push\" the file so that it ends up in your GitHub repository.\n",
    "\n",
    "**Important**: Double check you've added your Professor and your TA as collaborators to your \"turnin\" respository (you should have done this in the previous homework assignment).\n",
    "\n",
    "**Also important**: Make sure that the version of this notebook that you are working on is the same one that you just added to your repository! If you are working on a different copy of the noteobok, **none of your changes will be tracked**!\n",
    "\n",
    "If everything went as intended, the file should now show up on your GitHub account in the \"`cmse202-s24-turnin`\" repository inside the `final` directory that you just created. Periodically, **you'll be asked to commit your changes to the repository and push them to the remote GitHub location**. Of course, you can always commit your changes more often than that, if you wish.  It can be good to get into a habit of committing your changes any time you make a significant modification, or when you stop working on the project for a bit."
   ]
  },
  {
   "cell_type": "markdown",
   "metadata": {},
   "source": [
    "&#9989; **Question 1.1 (2 points)**: Before you move on, put the command that your instructor should run to clone your repository in the markdown cell below."
   ]
  },
  {
   "cell_type": "markdown",
   "metadata": {},
   "source": [
    "``` bash\n",
    "git clone https://github.com/Confusedphoton/CMSE202-s24-turnin\n",
    "\n",
    "```"
   ]
  },
  {
   "cell_type": "markdown",
   "metadata": {},
   "source": [
    "---\n",
    "## Part 2: Generate a network graph from data (19 points)"
   ]
  },
  {
   "cell_type": "code",
   "execution_count": 2,
   "metadata": {},
   "outputs": [],
   "source": [
    "import pandas as pd\n",
    "import numpy as np\n",
    "import networkx as nx\n",
    "import matplotlib.pyplot as plt"
   ]
  },
  {
   "cell_type": "markdown",
   "metadata": {},
   "source": [
    "In this part, we will create a network graph to represent the geographical adjacency relation between different countries. You can download the dataset from the following URL:\n",
    "\n",
    "`https://raw.githubusercontent.com/yangy5/HWFiles/main/borders.csv`"
   ]
  },
  {
   "cell_type": "markdown",
   "metadata": {},
   "source": [
    "&#9989; **Question 2.1 (3 points)**: To get started, **download the `.csv` file and place it in the same directory as your notebook**, then **read in the `borders.csv` dataset** as a Pandas data frame ,and finally **display the first 20 rows of the data**."
   ]
  },
  {
   "cell_type": "code",
   "execution_count": 1,
   "metadata": {},
   "outputs": [
    {
     "name": "stdout",
     "output_type": "stream",
     "text": [
      "  % Total    % Received % Xferd  Average Speed   Time    Time     Time  Current\n",
      "                                 Dload  Upload   Total   Spent    Left  Speed\n",
      "100 16221  100 16221    0     0   151k      0 --:--:-- --:--:-- --:--:--  152k\n"
     ]
    }
   ],
   "source": [
    "!curl -O https://raw.githubusercontent.com/yangy5/HWFiles/main/borders.csv "
   ]
  },
  {
   "cell_type": "code",
   "execution_count": 90,
   "metadata": {},
   "outputs": [
    {
     "data": {
      "text/html": [
       "<div>\n",
       "<style scoped>\n",
       "    .dataframe tbody tr th:only-of-type {\n",
       "        vertical-align: middle;\n",
       "    }\n",
       "\n",
       "    .dataframe tbody tr th {\n",
       "        vertical-align: top;\n",
       "    }\n",
       "\n",
       "    .dataframe thead th {\n",
       "        text-align: right;\n",
       "    }\n",
       "</style>\n",
       "<table border=\"1\" class=\"dataframe\">\n",
       "  <thead>\n",
       "    <tr style=\"text-align: right;\">\n",
       "      <th></th>\n",
       "      <th>Country</th>\n",
       "      <th>Neighbor</th>\n",
       "    </tr>\n",
       "  </thead>\n",
       "  <tbody>\n",
       "    <tr>\n",
       "      <th>0</th>\n",
       "      <td>Andorra</td>\n",
       "      <td>France</td>\n",
       "    </tr>\n",
       "    <tr>\n",
       "      <th>1</th>\n",
       "      <td>Andorra</td>\n",
       "      <td>Spain</td>\n",
       "    </tr>\n",
       "    <tr>\n",
       "      <th>2</th>\n",
       "      <td>United Arab Emirates</td>\n",
       "      <td>Oman</td>\n",
       "    </tr>\n",
       "    <tr>\n",
       "      <th>3</th>\n",
       "      <td>United Arab Emirates</td>\n",
       "      <td>Saudi Arabia</td>\n",
       "    </tr>\n",
       "    <tr>\n",
       "      <th>4</th>\n",
       "      <td>Afghanistan</td>\n",
       "      <td>China</td>\n",
       "    </tr>\n",
       "    <tr>\n",
       "      <th>5</th>\n",
       "      <td>Afghanistan</td>\n",
       "      <td>Iran (Islamic Republic of)</td>\n",
       "    </tr>\n",
       "    <tr>\n",
       "      <th>6</th>\n",
       "      <td>Afghanistan</td>\n",
       "      <td>Pakistan</td>\n",
       "    </tr>\n",
       "    <tr>\n",
       "      <th>7</th>\n",
       "      <td>Afghanistan</td>\n",
       "      <td>Tajikistan</td>\n",
       "    </tr>\n",
       "    <tr>\n",
       "      <th>8</th>\n",
       "      <td>Afghanistan</td>\n",
       "      <td>Turkmenistan</td>\n",
       "    </tr>\n",
       "    <tr>\n",
       "      <th>9</th>\n",
       "      <td>Afghanistan</td>\n",
       "      <td>Uzbekistan</td>\n",
       "    </tr>\n",
       "    <tr>\n",
       "      <th>10</th>\n",
       "      <td>Antigua and Barbuda</td>\n",
       "      <td>NaN</td>\n",
       "    </tr>\n",
       "    <tr>\n",
       "      <th>11</th>\n",
       "      <td>Anguilla</td>\n",
       "      <td>NaN</td>\n",
       "    </tr>\n",
       "    <tr>\n",
       "      <th>12</th>\n",
       "      <td>Albania</td>\n",
       "      <td>Greece</td>\n",
       "    </tr>\n",
       "    <tr>\n",
       "      <th>13</th>\n",
       "      <td>Albania</td>\n",
       "      <td>Montenegro</td>\n",
       "    </tr>\n",
       "    <tr>\n",
       "      <th>14</th>\n",
       "      <td>Albania</td>\n",
       "      <td>North Macedonia</td>\n",
       "    </tr>\n",
       "    <tr>\n",
       "      <th>15</th>\n",
       "      <td>Albania</td>\n",
       "      <td>Serbia</td>\n",
       "    </tr>\n",
       "    <tr>\n",
       "      <th>16</th>\n",
       "      <td>Armenia</td>\n",
       "      <td>Azerbaijan</td>\n",
       "    </tr>\n",
       "    <tr>\n",
       "      <th>17</th>\n",
       "      <td>Armenia</td>\n",
       "      <td>Georgia</td>\n",
       "    </tr>\n",
       "    <tr>\n",
       "      <th>18</th>\n",
       "      <td>Armenia</td>\n",
       "      <td>Iran (Islamic Republic of)</td>\n",
       "    </tr>\n",
       "    <tr>\n",
       "      <th>19</th>\n",
       "      <td>Armenia</td>\n",
       "      <td>Turkey</td>\n",
       "    </tr>\n",
       "  </tbody>\n",
       "</table>\n",
       "</div>"
      ],
      "text/plain": [
       "                 Country                    Neighbor\n",
       "0                Andorra                      France\n",
       "1                Andorra                       Spain\n",
       "2   United Arab Emirates                        Oman\n",
       "3   United Arab Emirates                Saudi Arabia\n",
       "4            Afghanistan                       China\n",
       "5            Afghanistan  Iran (Islamic Republic of)\n",
       "6            Afghanistan                    Pakistan\n",
       "7            Afghanistan                  Tajikistan\n",
       "8            Afghanistan                Turkmenistan\n",
       "9            Afghanistan                  Uzbekistan\n",
       "10   Antigua and Barbuda                         NaN\n",
       "11              Anguilla                         NaN\n",
       "12               Albania                      Greece\n",
       "13               Albania                  Montenegro\n",
       "14               Albania             North Macedonia\n",
       "15               Albania                      Serbia\n",
       "16               Armenia                  Azerbaijan\n",
       "17               Armenia                     Georgia\n",
       "18               Armenia  Iran (Islamic Republic of)\n",
       "19               Armenia                      Turkey"
      ]
     },
     "execution_count": 90,
     "metadata": {},
     "output_type": "execute_result"
    }
   ],
   "source": [
    "### Put your code here\n",
    "borders = pd.read_csv('borders.csv')\n",
    "borders.head(20)"
   ]
  },
  {
   "cell_type": "markdown",
   "metadata": {},
   "source": [
    "You should see two columns: `Country` and `Neighbor`. These are the two (unique) country names that are adjacent. If `Neighbor` is `NaN`, the country has no neighbor.\n",
    "\n",
    "\n",
    "&#9989; **Question 2.2 (2 points)**: How many countries have no neighbor?"
   ]
  },
  {
   "cell_type": "code",
   "execution_count": 36,
   "metadata": {},
   "outputs": [
    {
     "data": {
      "text/plain": [
       "86"
      ]
     },
     "execution_count": 36,
     "metadata": {},
     "output_type": "execute_result"
    }
   ],
   "source": [
    "### Put your code he\n",
    "np.sum([i == 0 for i in borders.fillna(0)['Neighbor']])"
   ]
  },
  {
   "cell_type": "markdown",
   "metadata": {},
   "source": [
    "&#9989; **Question 2.3 (1 points)**: Replace all the `NaN`s in the data frame by the number 0."
   ]
  },
  {
   "cell_type": "code",
   "execution_count": 37,
   "metadata": {},
   "outputs": [],
   "source": [
    "### Put your code here\n",
    "borders = borders.fillna(0)"
   ]
  },
  {
   "cell_type": "markdown",
   "metadata": {},
   "source": [
    "&#9989; **Question 2.4 (5 points)**: **Create an undirected `networkx` graph** (you can call it `G`). Make sure it is an undirected graph. Then, iterate over the dataset and **add edges between the `Country` and `Neighbor` when the latter is not 0**. Finally, **draw the graph**."
   ]
  },
  {
   "cell_type": "code",
   "execution_count": 46,
   "metadata": {},
   "outputs": [],
   "source": [
    "### Put your code here\n",
    "G = nx.Graph()\n",
    "G.add_nodes_from(set(borders['Country']))\n",
    "G.add_edges_from([(country,neighbor) for _,(country,neighbor) in borders.iterrows() if neighbor != 0])"
   ]
  },
  {
   "cell_type": "code",
   "execution_count": 47,
   "metadata": {},
   "outputs": [
    {
     "data": {
      "image/png": "[encoded data removed]",
      "text/plain": [
       "<Figure size 640x480 with 1 Axes>"
      ]
     },
     "metadata": {},
     "output_type": "display_data"
    }
   ],
   "source": [
    "nx.draw(G)"
   ]
  },
  {
   "cell_type": "markdown",
   "metadata": {},
   "source": [
    "&#9989; **Question 2.5 (2 points)**: How many nodes and edges does the graph have in total?"
   ]
  },
  {
   "cell_type": "code",
   "execution_count": 48,
   "metadata": {},
   "outputs": [
    {
     "name": "stdout",
     "output_type": "stream",
     "text": [
      "The graph has 249 nodes and 321 edges\n"
     ]
    }
   ],
   "source": [
    "### Put your code here\n",
    "print(f'The graph has {len(G.nodes())} nodes and {len(G.edges())} edges')"
   ]
  },
  {
   "cell_type": "markdown",
   "metadata": {},
   "source": [
    "The number of edges attached to a node is said to be the _degree_ of the node. The `networkx` package has a method to compute degrees.\n",
    "\n",
    "&#9989; **Question 2.6 (4 points)**: Using the relevant `networkx` method (consult the documentation/internet resources), **list the five countries that have the most neighbors**."
   ]
  },
  {
   "cell_type": "code",
   "execution_count": 79,
   "metadata": {},
   "outputs": [],
   "source": [
    "### Put your code here\n",
    "degrees = list(G.degree())\n",
    "degrees.sort(key = lambda node: node[1])"
   ]
  },
  {
   "cell_type": "code",
   "execution_count": 80,
   "metadata": {},
   "outputs": [
    {
     "data": {
      "text/plain": [
       "[('Congo (the Democratic Republic of the)', 9),\n",
       " ('Germany', 9),\n",
       " ('Brazil', 10),\n",
       " ('Russian Federation', 14),\n",
       " ('China', 16)]"
      ]
     },
     "execution_count": 80,
     "metadata": {},
     "output_type": "execute_result"
    }
   ],
   "source": [
    "degrees[-5:]"
   ]
  },
  {
   "cell_type": "markdown",
   "metadata": {},
   "source": [
    "&#9989; **Question 2.7 (2 point)** Using the relevant `networkx` function (consult the documentation/internet resources), **find the \"shortest path\" between `\"Portugal\"` and `\"Greece\"`**. The two countries are not adjacent, but you should be able to determine a set of nodes to \"traverse\" to get from one country to the other. **Display the list of countries on this shortest path.**"
   ]
  },
  {
   "cell_type": "code",
   "execution_count": 86,
   "metadata": {},
   "outputs": [
    {
     "data": {
      "text/plain": [
       "['Portugal',\n",
       " 'Spain',\n",
       " 'France',\n",
       " 'Switzerland',\n",
       " 'Austria',\n",
       " 'Hungary',\n",
       " 'Serbia',\n",
       " 'Albania',\n",
       " 'Greece']"
      ]
     },
     "execution_count": 86,
     "metadata": {},
     "output_type": "execute_result"
    }
   ],
   "source": [
    "### Put your code here\n",
    "shortest_path = nx.shortest_path(G,'Portugal','Greece')\n",
    "list(shortest_path)"
   ]
  },
  {
   "cell_type": "markdown",
   "metadata": {},
   "source": [
    "---\n",
    "### &#128721; STOP\n",
    "**Pause to commit your changes to your Git repository!**\n",
    "m\n",
    "Take a moment to save your notebook, commit the changes to your Git repository using the commit message \"**Committing Part 2**\", and push the changes to GitHub.\n",
    "\n",
    "---"
   ]
  },
  {
   "cell_type": "markdown",
   "metadata": {},
   "source": [
    "---\n",
    "## Part 3: Perform a regression analysis on data (18 points)"
   ]
  },
  {
   "cell_type": "markdown",
   "metadata": {},
   "source": [
    "The goal for this part is to do a multivariate linear regression, also known as multiple linear regression, to understand the relation between house price and other factors in Boston. You can download the dataset from this URL:\n",
    "\n",
    "`https://raw.githubusercontent.com/yangy5/HWFiles/main/BostonHousePrice.csv`"
   ]
  },
  {
   "cell_type": "code",
   "execution_count": 87,
   "metadata": {},
   "outputs": [
    {
     "name": "stdout",
     "output_type": "stream",
     "text": [
      "  % Total    % Received % Xferd  Average Speed   Time    Time     Time  Current\n",
      "                                 Dload  Upload   Total   Spent    Left  Speed\n",
      "100 29908  100 29908    0     0   165k      0 --:--:-- --:--:-- --:--:--  165k\n"
     ]
    }
   ],
   "source": [
    "!curl https://raw.githubusercontent.com/yangy5/HWFiles/main/BostonHousePrice.csv -O"
   ]
  },
  {
   "cell_type": "markdown",
   "metadata": {},
   "source": [
    "&#9989; **Question 3.1 (3 points)**: To get started, **download the `.csv` file and place it in the same directory as your notebook**, then **read in the `BostonHousePrice.csv` dataset** and finally **display the first few rows of the data**. You can use `Pandas` for this task or any other Python tool you prefer."
   ]
  },
  {
   "cell_type": "code",
   "execution_count": 88,
   "metadata": {},
   "outputs": [
    {
     "data": {
      "text/html": [
       "<div>\n",
       "<style scoped>\n",
       "    .dataframe tbody tr th:only-of-type {\n",
       "        vertical-align: middle;\n",
       "    }\n",
       "\n",
       "    .dataframe tbody tr th {\n",
       "        vertical-align: top;\n",
       "    }\n",
       "\n",
       "    .dataframe thead th {\n",
       "        text-align: right;\n",
       "    }\n",
       "</style>\n",
       "<table border=\"1\" class=\"dataframe\">\n",
       "  <thead>\n",
       "    <tr style=\"text-align: right;\">\n",
       "      <th></th>\n",
       "      <th>CRIM</th>\n",
       "      <th>ZN</th>\n",
       "      <th>INDUS</th>\n",
       "      <th>NOX</th>\n",
       "      <th>RM</th>\n",
       "      <th>AGE</th>\n",
       "      <th>DIS</th>\n",
       "      <th>B</th>\n",
       "      <th>LSTAT</th>\n",
       "      <th>PRICE</th>\n",
       "    </tr>\n",
       "  </thead>\n",
       "  <tbody>\n",
       "    <tr>\n",
       "      <th>0</th>\n",
       "      <td>0.00632</td>\n",
       "      <td>18.0</td>\n",
       "      <td>2.31</td>\n",
       "      <td>0.538</td>\n",
       "      <td>6.575</td>\n",
       "      <td>65.2</td>\n",
       "      <td>4.0900</td>\n",
       "      <td>396.90</td>\n",
       "      <td>4.98</td>\n",
       "      <td>24.0</td>\n",
       "    </tr>\n",
       "    <tr>\n",
       "      <th>1</th>\n",
       "      <td>0.02731</td>\n",
       "      <td>0.0</td>\n",
       "      <td>7.07</td>\n",
       "      <td>0.469</td>\n",
       "      <td>6.421</td>\n",
       "      <td>78.9</td>\n",
       "      <td>4.9671</td>\n",
       "      <td>396.90</td>\n",
       "      <td>9.14</td>\n",
       "      <td>21.6</td>\n",
       "    </tr>\n",
       "    <tr>\n",
       "      <th>2</th>\n",
       "      <td>0.02729</td>\n",
       "      <td>0.0</td>\n",
       "      <td>7.07</td>\n",
       "      <td>0.469</td>\n",
       "      <td>7.185</td>\n",
       "      <td>61.1</td>\n",
       "      <td>4.9671</td>\n",
       "      <td>392.83</td>\n",
       "      <td>4.03</td>\n",
       "      <td>34.7</td>\n",
       "    </tr>\n",
       "    <tr>\n",
       "      <th>3</th>\n",
       "      <td>0.03237</td>\n",
       "      <td>0.0</td>\n",
       "      <td>2.18</td>\n",
       "      <td>0.458</td>\n",
       "      <td>6.998</td>\n",
       "      <td>45.8</td>\n",
       "      <td>6.0622</td>\n",
       "      <td>394.63</td>\n",
       "      <td>2.94</td>\n",
       "      <td>33.4</td>\n",
       "    </tr>\n",
       "    <tr>\n",
       "      <th>4</th>\n",
       "      <td>0.06905</td>\n",
       "      <td>0.0</td>\n",
       "      <td>2.18</td>\n",
       "      <td>0.458</td>\n",
       "      <td>7.147</td>\n",
       "      <td>54.2</td>\n",
       "      <td>6.0622</td>\n",
       "      <td>396.90</td>\n",
       "      <td>5.33</td>\n",
       "      <td>36.2</td>\n",
       "    </tr>\n",
       "  </tbody>\n",
       "</table>\n",
       "</div>"
      ],
      "text/plain": [
       "      CRIM    ZN  INDUS    NOX     RM   AGE     DIS       B  LSTAT  PRICE\n",
       "0  0.00632  18.0   2.31  0.538  6.575  65.2  4.0900  396.90   4.98   24.0\n",
       "1  0.02731   0.0   7.07  0.469  6.421  78.9  4.9671  396.90   9.14   21.6\n",
       "2  0.02729   0.0   7.07  0.469  7.185  61.1  4.9671  392.83   4.03   34.7\n",
       "3  0.03237   0.0   2.18  0.458  6.998  45.8  6.0622  394.63   2.94   33.4\n",
       "4  0.06905   0.0   2.18  0.458  7.147  54.2  6.0622  396.90   5.33   36.2"
      ]
     },
     "execution_count": 88,
     "metadata": {},
     "output_type": "execute_result"
    }
   ],
   "source": [
    "### Put your code here\n",
    "prices = pd.read_csv('BostonHousePrice.csv')\n",
    "prices.head()"
   ]
  },
  {
   "cell_type": "markdown",
   "metadata": {},
   "source": [
    "You should see a list of students with several different information including:\n",
    "* CRIM:     per capita crime rate by town\n",
    "* ZN:       proportion of residential land zoned for lots over 25,000 sq.ft.\n",
    "* INDUS:    proportion of non-retail business acres per town\n",
    "* NOX:      nitric oxides concentration (parts per 10 million)\n",
    "* RM:       average number of rooms per dwelling\n",
    "* AGE:      proportion of owner-occupied units built prior to 1940\n",
    "* DIS:      weighted distances to five Boston employment centres\n",
    "* B:        1000(Bk - 0.63)^2 where Bk is the proportion of blacks by town\n",
    "* LSTAT:    lower status of the population\n",
    "\n",
    "You will be trying to predict `PRICE` using linear regression using the features.\n",
    "\n",
    "\n",
    "&#9989; **Question 3.2 (3 points)**: **Construct two data frames** using the loaded data: one named `labels` and the other named `features`. The `labels` data frame should consist solely of the `PRICE` column, while the `features` data frame should contain all the other columns. **Display the first few lines of these data frames.**"
   ]
  },
  {
   "cell_type": "code",
   "execution_count": 94,
   "metadata": {},
   "outputs": [],
   "source": [
    "columns = list(prices.columns)"
   ]
  },
  {
   "cell_type": "code",
   "execution_count": 95,
   "metadata": {},
   "outputs": [],
   "source": [
    "### Put your code here\n",
    "labels = prices[columns[-1]]\n",
    "features = prices[columns[:-1]]"
   ]
  },
  {
   "cell_type": "code",
   "execution_count": 100,
   "metadata": {},
   "outputs": [
    {
     "data": {
      "text/html": [
       "<div>\n",
       "<style scoped>\n",
       "    .dataframe tbody tr th:only-of-type {\n",
       "        vertical-align: middle;\n",
       "    }\n",
       "\n",
       "    .dataframe tbody tr th {\n",
       "        vertical-align: top;\n",
       "    }\n",
       "\n",
       "    .dataframe thead th {\n",
       "        text-align: right;\n",
       "    }\n",
       "</style>\n",
       "<table border=\"1\" class=\"dataframe\">\n",
       "  <thead>\n",
       "    <tr style=\"text-align: right;\">\n",
       "      <th></th>\n",
       "      <th>CRIM</th>\n",
       "      <th>ZN</th>\n",
       "      <th>INDUS</th>\n",
       "      <th>NOX</th>\n",
       "      <th>RM</th>\n",
       "      <th>AGE</th>\n",
       "      <th>DIS</th>\n",
       "      <th>B</th>\n",
       "      <th>LSTAT</th>\n",
       "    </tr>\n",
       "  </thead>\n",
       "  <tbody>\n",
       "    <tr>\n",
       "      <th>0</th>\n",
       "      <td>0.00632</td>\n",
       "      <td>18.0</td>\n",
       "      <td>2.31</td>\n",
       "      <td>0.538</td>\n",
       "      <td>6.575</td>\n",
       "      <td>65.2</td>\n",
       "      <td>4.0900</td>\n",
       "      <td>396.90</td>\n",
       "      <td>4.98</td>\n",
       "    </tr>\n",
       "    <tr>\n",
       "      <th>1</th>\n",
       "      <td>0.02731</td>\n",
       "      <td>0.0</td>\n",
       "      <td>7.07</td>\n",
       "      <td>0.469</td>\n",
       "      <td>6.421</td>\n",
       "      <td>78.9</td>\n",
       "      <td>4.9671</td>\n",
       "      <td>396.90</td>\n",
       "      <td>9.14</td>\n",
       "    </tr>\n",
       "    <tr>\n",
       "      <th>2</th>\n",
       "      <td>0.02729</td>\n",
       "      <td>0.0</td>\n",
       "      <td>7.07</td>\n",
       "      <td>0.469</td>\n",
       "      <td>7.185</td>\n",
       "      <td>61.1</td>\n",
       "      <td>4.9671</td>\n",
       "      <td>392.83</td>\n",
       "      <td>4.03</td>\n",
       "    </tr>\n",
       "    <tr>\n",
       "      <th>3</th>\n",
       "      <td>0.03237</td>\n",
       "      <td>0.0</td>\n",
       "      <td>2.18</td>\n",
       "      <td>0.458</td>\n",
       "      <td>6.998</td>\n",
       "      <td>45.8</td>\n",
       "      <td>6.0622</td>\n",
       "      <td>394.63</td>\n",
       "      <td>2.94</td>\n",
       "    </tr>\n",
       "    <tr>\n",
       "      <th>4</th>\n",
       "      <td>0.06905</td>\n",
       "      <td>0.0</td>\n",
       "      <td>2.18</td>\n",
       "      <td>0.458</td>\n",
       "      <td>7.147</td>\n",
       "      <td>54.2</td>\n",
       "      <td>6.0622</td>\n",
       "      <td>396.90</td>\n",
       "      <td>5.33</td>\n",
       "    </tr>\n",
       "  </tbody>\n",
       "</table>\n",
       "</div>"
      ],
      "text/plain": [
       "      CRIM    ZN  INDUS    NOX     RM   AGE     DIS       B  LSTAT\n",
       "0  0.00632  18.0   2.31  0.538  6.575  65.2  4.0900  396.90   4.98\n",
       "1  0.02731   0.0   7.07  0.469  6.421  78.9  4.9671  396.90   9.14\n",
       "2  0.02729   0.0   7.07  0.469  7.185  61.1  4.9671  392.83   4.03\n",
       "3  0.03237   0.0   2.18  0.458  6.998  45.8  6.0622  394.63   2.94\n",
       "4  0.06905   0.0   2.18  0.458  7.147  54.2  6.0622  396.90   5.33"
      ]
     },
     "execution_count": 100,
     "metadata": {},
     "output_type": "execute_result"
    }
   ],
   "source": [
    "features.head()"
   ]
  },
  {
   "cell_type": "code",
   "execution_count": 101,
   "metadata": {},
   "outputs": [
    {
     "data": {
      "text/plain": [
       "0    24.0\n",
       "1    21.6\n",
       "2    34.7\n",
       "3    33.4\n",
       "4    36.2\n",
       "Name: PRICE, dtype: float64"
      ]
     },
     "execution_count": 101,
     "metadata": {},
     "output_type": "execute_result"
    }
   ],
   "source": [
    "labels.head()"
   ]
  },
  {
   "cell_type": "code",
   "execution_count": 103,
   "metadata": {},
   "outputs": [],
   "source": [
    "from statsmodels.api import OLS\n",
    "import statsmodels.api as sm"
   ]
  },
  {
   "cell_type": "markdown",
   "metadata": {},
   "source": [
    "Next, we will fit the data using the ordinary least squares model `OLS` in `statsmodel`. \n",
    "\n",
    "&#9989; **Question 3.3 (2 point)**: Before proceeding, **add a column of constants** (set to 1.0) to the `features` data frame. You learned about a `statsmodels` function in class that can accomplish this task. Label the modified data frame as `features_const`. **Display** `features_const` to verify that the new column is indeed added."
   ]
  },
  {
   "cell_type": "code",
   "execution_count": 104,
   "metadata": {},
   "outputs": [
    {
     "data": {
      "text/html": [
       "<div>\n",
       "<style scoped>\n",
       "    .dataframe tbody tr th:only-of-type {\n",
       "        vertical-align: middle;\n",
       "    }\n",
       "\n",
       "    .dataframe tbody tr th {\n",
       "        vertical-align: top;\n",
       "    }\n",
       "\n",
       "    .dataframe thead th {\n",
       "        text-align: right;\n",
       "    }\n",
       "</style>\n",
       "<table border=\"1\" class=\"dataframe\">\n",
       "  <thead>\n",
       "    <tr style=\"text-align: right;\">\n",
       "      <th></th>\n",
       "      <th>const</th>\n",
       "      <th>CRIM</th>\n",
       "      <th>ZN</th>\n",
       "      <th>INDUS</th>\n",
       "      <th>NOX</th>\n",
       "      <th>RM</th>\n",
       "      <th>AGE</th>\n",
       "      <th>DIS</th>\n",
       "      <th>B</th>\n",
       "      <th>LSTAT</th>\n",
       "    </tr>\n",
       "  </thead>\n",
       "  <tbody>\n",
       "    <tr>\n",
       "      <th>0</th>\n",
       "      <td>1.0</td>\n",
       "      <td>0.00632</td>\n",
       "      <td>18.0</td>\n",
       "      <td>2.31</td>\n",
       "      <td>0.538</td>\n",
       "      <td>6.575</td>\n",
       "      <td>65.2</td>\n",
       "      <td>4.0900</td>\n",
       "      <td>396.90</td>\n",
       "      <td>4.98</td>\n",
       "    </tr>\n",
       "    <tr>\n",
       "      <th>1</th>\n",
       "      <td>1.0</td>\n",
       "      <td>0.02731</td>\n",
       "      <td>0.0</td>\n",
       "      <td>7.07</td>\n",
       "      <td>0.469</td>\n",
       "      <td>6.421</td>\n",
       "      <td>78.9</td>\n",
       "      <td>4.9671</td>\n",
       "      <td>396.90</td>\n",
       "      <td>9.14</td>\n",
       "    </tr>\n",
       "    <tr>\n",
       "      <th>2</th>\n",
       "      <td>1.0</td>\n",
       "      <td>0.02729</td>\n",
       "      <td>0.0</td>\n",
       "      <td>7.07</td>\n",
       "      <td>0.469</td>\n",
       "      <td>7.185</td>\n",
       "      <td>61.1</td>\n",
       "      <td>4.9671</td>\n",
       "      <td>392.83</td>\n",
       "      <td>4.03</td>\n",
       "    </tr>\n",
       "    <tr>\n",
       "      <th>3</th>\n",
       "      <td>1.0</td>\n",
       "      <td>0.03237</td>\n",
       "      <td>0.0</td>\n",
       "      <td>2.18</td>\n",
       "      <td>0.458</td>\n",
       "      <td>6.998</td>\n",
       "      <td>45.8</td>\n",
       "      <td>6.0622</td>\n",
       "      <td>394.63</td>\n",
       "      <td>2.94</td>\n",
       "    </tr>\n",
       "    <tr>\n",
       "      <th>4</th>\n",
       "      <td>1.0</td>\n",
       "      <td>0.06905</td>\n",
       "      <td>0.0</td>\n",
       "      <td>2.18</td>\n",
       "      <td>0.458</td>\n",
       "      <td>7.147</td>\n",
       "      <td>54.2</td>\n",
       "      <td>6.0622</td>\n",
       "      <td>396.90</td>\n",
       "      <td>5.33</td>\n",
       "    </tr>\n",
       "    <tr>\n",
       "      <th>...</th>\n",
       "      <td>...</td>\n",
       "      <td>...</td>\n",
       "      <td>...</td>\n",
       "      <td>...</td>\n",
       "      <td>...</td>\n",
       "      <td>...</td>\n",
       "      <td>...</td>\n",
       "      <td>...</td>\n",
       "      <td>...</td>\n",
       "      <td>...</td>\n",
       "    </tr>\n",
       "    <tr>\n",
       "      <th>501</th>\n",
       "      <td>1.0</td>\n",
       "      <td>0.06263</td>\n",
       "      <td>0.0</td>\n",
       "      <td>11.93</td>\n",
       "      <td>0.573</td>\n",
       "      <td>6.593</td>\n",
       "      <td>69.1</td>\n",
       "      <td>2.4786</td>\n",
       "      <td>391.99</td>\n",
       "      <td>9.67</td>\n",
       "    </tr>\n",
       "    <tr>\n",
       "      <th>502</th>\n",
       "      <td>1.0</td>\n",
       "      <td>0.04527</td>\n",
       "      <td>0.0</td>\n",
       "      <td>11.93</td>\n",
       "      <td>0.573</td>\n",
       "      <td>6.120</td>\n",
       "      <td>76.7</td>\n",
       "      <td>2.2875</td>\n",
       "      <td>396.90</td>\n",
       "      <td>9.08</td>\n",
       "    </tr>\n",
       "    <tr>\n",
       "      <th>503</th>\n",
       "      <td>1.0</td>\n",
       "      <td>0.06076</td>\n",
       "      <td>0.0</td>\n",
       "      <td>11.93</td>\n",
       "      <td>0.573</td>\n",
       "      <td>6.976</td>\n",
       "      <td>91.0</td>\n",
       "      <td>2.1675</td>\n",
       "      <td>396.90</td>\n",
       "      <td>5.64</td>\n",
       "    </tr>\n",
       "    <tr>\n",
       "      <th>504</th>\n",
       "      <td>1.0</td>\n",
       "      <td>0.10959</td>\n",
       "      <td>0.0</td>\n",
       "      <td>11.93</td>\n",
       "      <td>0.573</td>\n",
       "      <td>6.794</td>\n",
       "      <td>89.3</td>\n",
       "      <td>2.3889</td>\n",
       "      <td>393.45</td>\n",
       "      <td>6.48</td>\n",
       "    </tr>\n",
       "    <tr>\n",
       "      <th>505</th>\n",
       "      <td>1.0</td>\n",
       "      <td>0.04741</td>\n",
       "      <td>0.0</td>\n",
       "      <td>11.93</td>\n",
       "      <td>0.573</td>\n",
       "      <td>6.030</td>\n",
       "      <td>80.8</td>\n",
       "      <td>2.5050</td>\n",
       "      <td>396.90</td>\n",
       "      <td>7.88</td>\n",
       "    </tr>\n",
       "  </tbody>\n",
       "</table>\n",
       "<p>506 rows × 10 columns</p>\n",
       "</div>"
      ],
      "text/plain": [
       "     const     CRIM    ZN  INDUS    NOX     RM   AGE     DIS       B  LSTAT\n",
       "0      1.0  0.00632  18.0   2.31  0.538  6.575  65.2  4.0900  396.90   4.98\n",
       "1      1.0  0.02731   0.0   7.07  0.469  6.421  78.9  4.9671  396.90   9.14\n",
       "2      1.0  0.02729   0.0   7.07  0.469  7.185  61.1  4.9671  392.83   4.03\n",
       "3      1.0  0.03237   0.0   2.18  0.458  6.998  45.8  6.0622  394.63   2.94\n",
       "4      1.0  0.06905   0.0   2.18  0.458  7.147  54.2  6.0622  396.90   5.33\n",
       "..     ...      ...   ...    ...    ...    ...   ...     ...     ...    ...\n",
       "501    1.0  0.06263   0.0  11.93  0.573  6.593  69.1  2.4786  391.99   9.67\n",
       "502    1.0  0.04527   0.0  11.93  0.573  6.120  76.7  2.2875  396.90   9.08\n",
       "503    1.0  0.06076   0.0  11.93  0.573  6.976  91.0  2.1675  396.90   5.64\n",
       "504    1.0  0.10959   0.0  11.93  0.573  6.794  89.3  2.3889  393.45   6.48\n",
       "505    1.0  0.04741   0.0  11.93  0.573  6.030  80.8  2.5050  396.90   7.88\n",
       "\n",
       "[506 rows x 10 columns]"
      ]
     },
     "execution_count": 104,
     "metadata": {},
     "output_type": "execute_result"
    }
   ],
   "source": [
    "### Put your code here\n",
    "features_const = sm.add_constant(features)\n",
    "features_const"
   ]
  },
  {
   "cell_type": "markdown",
   "metadata": {},
   "source": [
    "Now you will perform the actual fit.\n",
    "\n",
    "&#9989; **Question 3.4 (3 points)**: Using `statsmodels` `OLS`, **perform a fit** using `labels` (containing `PRICE`) as the dependent variable and `features_const` as the independent variable. **Print the fit** using `summary()`."
   ]
  },
  {
   "cell_type": "code",
   "execution_count": 108,
   "metadata": {},
   "outputs": [],
   "source": [
    "### Put your code here\n",
    "model = OLS(labels, features_const).fit()"
   ]
  },
  {
   "cell_type": "code",
   "execution_count": 109,
   "metadata": {},
   "outputs": [
    {
     "data": {
      "text/html": [
       "<table class=\"simpletable\">\n",
       "<caption>OLS Regression Results</caption>\n",
       "<tr>\n",
       "  <th>Dep. Variable:</th>          <td>PRICE</td>      <th>  R-squared:         </th> <td>   0.695</td> \n",
       "</tr>\n",
       "<tr>\n",
       "  <th>Model:</th>                   <td>OLS</td>       <th>  Adj. R-squared:    </th> <td>   0.689</td> \n",
       "</tr>\n",
       "<tr>\n",
       "  <th>Method:</th>             <td>Least Squares</td>  <th>  F-statistic:       </th> <td>   125.5</td> \n",
       "</tr>\n",
       "<tr>\n",
       "  <th>Date:</th>             <td>Wed, 17 Apr 2024</td> <th>  Prob (F-statistic):</th> <td>8.16e-122</td>\n",
       "</tr>\n",
       "<tr>\n",
       "  <th>Time:</th>                 <td>10:55:05</td>     <th>  Log-Likelihood:    </th> <td> -1539.9</td> \n",
       "</tr>\n",
       "<tr>\n",
       "  <th>No. Observations:</th>      <td>   506</td>      <th>  AIC:               </th> <td>   3100.</td> \n",
       "</tr>\n",
       "<tr>\n",
       "  <th>Df Residuals:</th>          <td>   496</td>      <th>  BIC:               </th> <td>   3142.</td> \n",
       "</tr>\n",
       "<tr>\n",
       "  <th>Df Model:</th>              <td>     9</td>      <th>                     </th>     <td> </td>    \n",
       "</tr>\n",
       "<tr>\n",
       "  <th>Covariance Type:</th>      <td>nonrobust</td>    <th>                     </th>     <td> </td>    \n",
       "</tr>\n",
       "</table>\n",
       "<table class=\"simpletable\">\n",
       "<tr>\n",
       "    <td></td>       <th>coef</th>     <th>std err</th>      <th>t</th>      <th>P>|t|</th>  <th>[0.025</th>    <th>0.975]</th>  \n",
       "</tr>\n",
       "<tr>\n",
       "  <th>const</th> <td>    9.9642</td> <td>    4.295</td> <td>    2.320</td> <td> 0.021</td> <td>    1.525</td> <td>   18.404</td>\n",
       "</tr>\n",
       "<tr>\n",
       "  <th>CRIM</th>  <td>   -0.1057</td> <td>    0.032</td> <td>   -3.339</td> <td> 0.001</td> <td>   -0.168</td> <td>   -0.044</td>\n",
       "</tr>\n",
       "<tr>\n",
       "  <th>ZN</th>    <td>    0.0681</td> <td>    0.014</td> <td>    4.941</td> <td> 0.000</td> <td>    0.041</td> <td>    0.095</td>\n",
       "</tr>\n",
       "<tr>\n",
       "  <th>INDUS</th> <td>   -0.1329</td> <td>    0.057</td> <td>   -2.319</td> <td> 0.021</td> <td>   -0.245</td> <td>   -0.020</td>\n",
       "</tr>\n",
       "<tr>\n",
       "  <th>NOX</th>   <td>   -8.2273</td> <td>    3.783</td> <td>   -2.175</td> <td> 0.030</td> <td>  -15.660</td> <td>   -0.795</td>\n",
       "</tr>\n",
       "<tr>\n",
       "  <th>RM</th>    <td>    4.5462</td> <td>    0.441</td> <td>   10.314</td> <td> 0.000</td> <td>    3.680</td> <td>    5.412</td>\n",
       "</tr>\n",
       "<tr>\n",
       "  <th>AGE</th>   <td>   -0.0065</td> <td>    0.014</td> <td>   -0.459</td> <td> 0.646</td> <td>   -0.034</td> <td>    0.021</td>\n",
       "</tr>\n",
       "<tr>\n",
       "  <th>DIS</th>   <td>   -1.6552</td> <td>    0.214</td> <td>   -7.729</td> <td> 0.000</td> <td>   -2.076</td> <td>   -1.234</td>\n",
       "</tr>\n",
       "<tr>\n",
       "  <th>B</th>     <td>    0.0094</td> <td>    0.003</td> <td>    3.303</td> <td> 0.001</td> <td>    0.004</td> <td>    0.015</td>\n",
       "</tr>\n",
       "<tr>\n",
       "  <th>LSTAT</th> <td>   -0.5526</td> <td>    0.055</td> <td>  -10.139</td> <td> 0.000</td> <td>   -0.660</td> <td>   -0.446</td>\n",
       "</tr>\n",
       "</table>\n",
       "<table class=\"simpletable\">\n",
       "<tr>\n",
       "  <th>Omnibus:</th>       <td>164.676</td> <th>  Durbin-Watson:     </th> <td>   0.906</td> \n",
       "</tr>\n",
       "<tr>\n",
       "  <th>Prob(Omnibus):</th> <td> 0.000</td>  <th>  Jarque-Bera (JB):  </th> <td> 616.409</td> \n",
       "</tr>\n",
       "<tr>\n",
       "  <th>Skew:</th>          <td> 1.456</td>  <th>  Prob(JB):          </th> <td>1.41e-134</td>\n",
       "</tr>\n",
       "<tr>\n",
       "  <th>Kurtosis:</th>      <td> 7.556</td>  <th>  Cond. No.          </th> <td>8.11e+03</td> \n",
       "</tr>\n",
       "</table><br/><br/>Notes:<br/>[1] Standard Errors assume that the covariance matrix of the errors is correctly specified.<br/>[2] The condition number is large, 8.11e+03. This might indicate that there are<br/>strong multicollinearity or other numerical problems."
      ],
      "text/latex": [
       "\\begin{center}\n",
       "\\begin{tabular}{lclc}\n",
       "\\toprule\n",
       "\\textbf{Dep. Variable:}    &      PRICE       & \\textbf{  R-squared:         } &     0.695   \\\\\n",
       "\\textbf{Model:}            &       OLS        & \\textbf{  Adj. R-squared:    } &     0.689   \\\\\n",
       "\\textbf{Method:}           &  Least Squares   & \\textbf{  F-statistic:       } &     125.5   \\\\\n",
       "\\textbf{Date:}             & Wed, 17 Apr 2024 & \\textbf{  Prob (F-statistic):} & 8.16e-122   \\\\\n",
       "\\textbf{Time:}             &     10:55:05     & \\textbf{  Log-Likelihood:    } &   -1539.9   \\\\\n",
       "\\textbf{No. Observations:} &         506      & \\textbf{  AIC:               } &     3100.   \\\\\n",
       "\\textbf{Df Residuals:}     &         496      & \\textbf{  BIC:               } &     3142.   \\\\\n",
       "\\textbf{Df Model:}         &           9      & \\textbf{                     } &             \\\\\n",
       "\\textbf{Covariance Type:}  &    nonrobust     & \\textbf{                     } &             \\\\\n",
       "\\bottomrule\n",
       "\\end{tabular}\n",
       "\\begin{tabular}{lcccccc}\n",
       "               & \\textbf{coef} & \\textbf{std err} & \\textbf{t} & \\textbf{P$> |$t$|$} & \\textbf{[0.025} & \\textbf{0.975]}  \\\\\n",
       "\\midrule\n",
       "\\textbf{const} &       9.9642  &        4.295     &     2.320  &         0.021        &        1.525    &       18.404     \\\\\n",
       "\\textbf{CRIM}  &      -0.1057  &        0.032     &    -3.339  &         0.001        &       -0.168    &       -0.044     \\\\\n",
       "\\textbf{ZN}    &       0.0681  &        0.014     &     4.941  &         0.000        &        0.041    &        0.095     \\\\\n",
       "\\textbf{INDUS} &      -0.1329  &        0.057     &    -2.319  &         0.021        &       -0.245    &       -0.020     \\\\\n",
       "\\textbf{NOX}   &      -8.2273  &        3.783     &    -2.175  &         0.030        &      -15.660    &       -0.795     \\\\\n",
       "\\textbf{RM}    &       4.5462  &        0.441     &    10.314  &         0.000        &        3.680    &        5.412     \\\\\n",
       "\\textbf{AGE}   &      -0.0065  &        0.014     &    -0.459  &         0.646        &       -0.034    &        0.021     \\\\\n",
       "\\textbf{DIS}   &      -1.6552  &        0.214     &    -7.729  &         0.000        &       -2.076    &       -1.234     \\\\\n",
       "\\textbf{B}     &       0.0094  &        0.003     &     3.303  &         0.001        &        0.004    &        0.015     \\\\\n",
       "\\textbf{LSTAT} &      -0.5526  &        0.055     &   -10.139  &         0.000        &       -0.660    &       -0.446     \\\\\n",
       "\\bottomrule\n",
       "\\end{tabular}\n",
       "\\begin{tabular}{lclc}\n",
       "\\textbf{Omnibus:}       & 164.676 & \\textbf{  Durbin-Watson:     } &     0.906  \\\\\n",
       "\\textbf{Prob(Omnibus):} &   0.000 & \\textbf{  Jarque-Bera (JB):  } &   616.409  \\\\\n",
       "\\textbf{Skew:}          &   1.456 & \\textbf{  Prob(JB):          } & 1.41e-134  \\\\\n",
       "\\textbf{Kurtosis:}      &   7.556 & \\textbf{  Cond. No.          } &  8.11e+03  \\\\\n",
       "\\bottomrule\n",
       "\\end{tabular}\n",
       "%\\caption{OLS Regression Results}\n",
       "\\end{center}\n",
       "\n",
       "Notes: \\newline\n",
       " [1] Standard Errors assume that the covariance matrix of the errors is correctly specified. \\newline\n",
       " [2] The condition number is large, 8.11e+03. This might indicate that there are \\newline\n",
       " strong multicollinearity or other numerical problems."
      ],
      "text/plain": [
       "<class 'statsmodels.iolib.summary.Summary'>\n",
       "\"\"\"\n",
       "                            OLS Regression Results                            \n",
       "==============================================================================\n",
       "Dep. Variable:                  PRICE   R-squared:                       0.695\n",
       "Model:                            OLS   Adj. R-squared:                  0.689\n",
       "Method:                 Least Squares   F-statistic:                     125.5\n",
       "Date:                Wed, 17 Apr 2024   Prob (F-statistic):          8.16e-122\n",
       "Time:                        10:55:05   Log-Likelihood:                -1539.9\n",
       "No. Observations:                 506   AIC:                             3100.\n",
       "Df Residuals:                     496   BIC:                             3142.\n",
       "Df Model:                           9                                         \n",
       "Covariance Type:            nonrobust                                         \n",
       "==============================================================================\n",
       "                 coef    std err          t      P>|t|      [0.025      0.975]\n",
       "------------------------------------------------------------------------------\n",
       "const          9.9642      4.295      2.320      0.021       1.525      18.404\n",
       "CRIM          -0.1057      0.032     -3.339      0.001      -0.168      -0.044\n",
       "ZN             0.0681      0.014      4.941      0.000       0.041       0.095\n",
       "INDUS         -0.1329      0.057     -2.319      0.021      -0.245      -0.020\n",
       "NOX           -8.2273      3.783     -2.175      0.030     -15.660      -0.795\n",
       "RM             4.5462      0.441     10.314      0.000       3.680       5.412\n",
       "AGE           -0.0065      0.014     -0.459      0.646      -0.034       0.021\n",
       "DIS           -1.6552      0.214     -7.729      0.000      -2.076      -1.234\n",
       "B              0.0094      0.003      3.303      0.001       0.004       0.015\n",
       "LSTAT         -0.5526      0.055    -10.139      0.000      -0.660      -0.446\n",
       "==============================================================================\n",
       "Omnibus:                      164.676   Durbin-Watson:                   0.906\n",
       "Prob(Omnibus):                  0.000   Jarque-Bera (JB):              616.409\n",
       "Skew:                           1.456   Prob(JB):                    1.41e-134\n",
       "Kurtosis:                       7.556   Cond. No.                     8.11e+03\n",
       "==============================================================================\n",
       "\n",
       "Notes:\n",
       "[1] Standard Errors assume that the covariance matrix of the errors is correctly specified.\n",
       "[2] The condition number is large, 8.11e+03. This might indicate that there are\n",
       "strong multicollinearity or other numerical problems.\n",
       "\"\"\""
      ]
     },
     "execution_count": 109,
     "metadata": {},
     "output_type": "execute_result"
    }
   ],
   "source": [
    "model.summary()"
   ]
  },
  {
   "cell_type": "markdown",
   "metadata": {},
   "source": [
    "&#9989; **Question 3.5 (2 points)**: Among all the features, is there one that is significantly less important than others? justify your answer with a sentence or two."
   ]
  },
  {
   "cell_type": "markdown",
   "metadata": {},
   "source": [
    "Yes, the AGE parameter. Every other parameter has a statistically significant p (maxing at 0.03 using a standard 0.05 p for signifcance). While AGE has a p value of 0.646. This is larger than any other by an order of magnitude."
   ]
  },
  {
   "cell_type": "markdown",
   "metadata": {},
   "source": [
    "&#9989; **Question 3.6 (3 points)**: **Remove the \"least important\" feature**, then **fit the model again** and **print the fit** using `summary()` again."
   ]
  },
  {
   "cell_type": "code",
   "execution_count": 119,
   "metadata": {},
   "outputs": [
    {
     "data": {
      "text/html": [
       "<table class=\"simpletable\">\n",
       "<caption>OLS Regression Results</caption>\n",
       "<tr>\n",
       "  <th>Dep. Variable:</th>          <td>PRICE</td>      <th>  R-squared:         </th> <td>   0.695</td> \n",
       "</tr>\n",
       "<tr>\n",
       "  <th>Model:</th>                   <td>OLS</td>       <th>  Adj. R-squared:    </th> <td>   0.690</td> \n",
       "</tr>\n",
       "<tr>\n",
       "  <th>Method:</th>             <td>Least Squares</td>  <th>  F-statistic:       </th> <td>   141.4</td> \n",
       "</tr>\n",
       "<tr>\n",
       "  <th>Date:</th>             <td>Wed, 17 Apr 2024</td> <th>  Prob (F-statistic):</th> <td>7.38e-123</td>\n",
       "</tr>\n",
       "<tr>\n",
       "  <th>Time:</th>                 <td>10:59:22</td>     <th>  Log-Likelihood:    </th> <td> -1540.0</td> \n",
       "</tr>\n",
       "<tr>\n",
       "  <th>No. Observations:</th>      <td>   506</td>      <th>  AIC:               </th> <td>   3098.</td> \n",
       "</tr>\n",
       "<tr>\n",
       "  <th>Df Residuals:</th>          <td>   497</td>      <th>  BIC:               </th> <td>   3136.</td> \n",
       "</tr>\n",
       "<tr>\n",
       "  <th>Df Model:</th>              <td>     8</td>      <th>                     </th>     <td> </td>    \n",
       "</tr>\n",
       "<tr>\n",
       "  <th>Covariance Type:</th>      <td>nonrobust</td>    <th>                     </th>     <td> </td>    \n",
       "</tr>\n",
       "</table>\n",
       "<table class=\"simpletable\">\n",
       "<tr>\n",
       "    <td></td>       <th>coef</th>     <th>std err</th>      <th>t</th>      <th>P>|t|</th>  <th>[0.025</th>    <th>0.975]</th>  \n",
       "</tr>\n",
       "<tr>\n",
       "  <th>const</th> <td>   10.0383</td> <td>    4.289</td> <td>    2.340</td> <td> 0.020</td> <td>    1.612</td> <td>   18.465</td>\n",
       "</tr>\n",
       "<tr>\n",
       "  <th>CRIM</th>  <td>   -0.1053</td> <td>    0.032</td> <td>   -3.329</td> <td> 0.001</td> <td>   -0.167</td> <td>   -0.043</td>\n",
       "</tr>\n",
       "<tr>\n",
       "  <th>ZN</th>    <td>    0.0690</td> <td>    0.014</td> <td>    5.069</td> <td> 0.000</td> <td>    0.042</td> <td>    0.096</td>\n",
       "</tr>\n",
       "<tr>\n",
       "  <th>INDUS</th> <td>   -0.1334</td> <td>    0.057</td> <td>   -2.331</td> <td> 0.020</td> <td>   -0.246</td> <td>   -0.021</td>\n",
       "</tr>\n",
       "<tr>\n",
       "  <th>NOX</th>   <td>   -8.6681</td> <td>    3.656</td> <td>   -2.371</td> <td> 0.018</td> <td>  -15.852</td> <td>   -1.485</td>\n",
       "</tr>\n",
       "<tr>\n",
       "  <th>RM</th>    <td>    4.5071</td> <td>    0.432</td> <td>   10.430</td> <td> 0.000</td> <td>    3.658</td> <td>    5.356</td>\n",
       "</tr>\n",
       "<tr>\n",
       "  <th>DIS</th>   <td>   -1.6267</td> <td>    0.205</td> <td>   -7.944</td> <td> 0.000</td> <td>   -2.029</td> <td>   -1.224</td>\n",
       "</tr>\n",
       "<tr>\n",
       "  <th>B</th>     <td>    0.0093</td> <td>    0.003</td> <td>    3.279</td> <td> 0.001</td> <td>    0.004</td> <td>    0.015</td>\n",
       "</tr>\n",
       "<tr>\n",
       "  <th>LSTAT</th> <td>   -0.5612</td> <td>    0.051</td> <td>  -10.965</td> <td> 0.000</td> <td>   -0.662</td> <td>   -0.461</td>\n",
       "</tr>\n",
       "</table>\n",
       "<table class=\"simpletable\">\n",
       "<tr>\n",
       "  <th>Omnibus:</th>       <td>161.740</td> <th>  Durbin-Watson:     </th> <td>   0.912</td> \n",
       "</tr>\n",
       "<tr>\n",
       "  <th>Prob(Omnibus):</th> <td> 0.000</td>  <th>  Jarque-Bera (JB):  </th> <td> 592.437</td> \n",
       "</tr>\n",
       "<tr>\n",
       "  <th>Skew:</th>          <td> 1.436</td>  <th>  Prob(JB):          </th> <td>2.26e-129</td>\n",
       "</tr>\n",
       "<tr>\n",
       "  <th>Kurtosis:</th>      <td> 7.455</td>  <th>  Cond. No.          </th> <td>7.91e+03</td> \n",
       "</tr>\n",
       "</table><br/><br/>Notes:<br/>[1] Standard Errors assume that the covariance matrix of the errors is correctly specified.<br/>[2] The condition number is large, 7.91e+03. This might indicate that there are<br/>strong multicollinearity or other numerical problems."
      ],
      "text/latex": [
       "\\begin{center}\n",
       "\\begin{tabular}{lclc}\n",
       "\\toprule\n",
       "\\textbf{Dep. Variable:}    &      PRICE       & \\textbf{  R-squared:         } &     0.695   \\\\\n",
       "\\textbf{Model:}            &       OLS        & \\textbf{  Adj. R-squared:    } &     0.690   \\\\\n",
       "\\textbf{Method:}           &  Least Squares   & \\textbf{  F-statistic:       } &     141.4   \\\\\n",
       "\\textbf{Date:}             & Wed, 17 Apr 2024 & \\textbf{  Prob (F-statistic):} & 7.38e-123   \\\\\n",
       "\\textbf{Time:}             &     10:59:22     & \\textbf{  Log-Likelihood:    } &   -1540.0   \\\\\n",
       "\\textbf{No. Observations:} &         506      & \\textbf{  AIC:               } &     3098.   \\\\\n",
       "\\textbf{Df Residuals:}     &         497      & \\textbf{  BIC:               } &     3136.   \\\\\n",
       "\\textbf{Df Model:}         &           8      & \\textbf{                     } &             \\\\\n",
       "\\textbf{Covariance Type:}  &    nonrobust     & \\textbf{                     } &             \\\\\n",
       "\\bottomrule\n",
       "\\end{tabular}\n",
       "\\begin{tabular}{lcccccc}\n",
       "               & \\textbf{coef} & \\textbf{std err} & \\textbf{t} & \\textbf{P$> |$t$|$} & \\textbf{[0.025} & \\textbf{0.975]}  \\\\\n",
       "\\midrule\n",
       "\\textbf{const} &      10.0383  &        4.289     &     2.340  &         0.020        &        1.612    &       18.465     \\\\\n",
       "\\textbf{CRIM}  &      -0.1053  &        0.032     &    -3.329  &         0.001        &       -0.167    &       -0.043     \\\\\n",
       "\\textbf{ZN}    &       0.0690  &        0.014     &     5.069  &         0.000        &        0.042    &        0.096     \\\\\n",
       "\\textbf{INDUS} &      -0.1334  &        0.057     &    -2.331  &         0.020        &       -0.246    &       -0.021     \\\\\n",
       "\\textbf{NOX}   &      -8.6681  &        3.656     &    -2.371  &         0.018        &      -15.852    &       -1.485     \\\\\n",
       "\\textbf{RM}    &       4.5071  &        0.432     &    10.430  &         0.000        &        3.658    &        5.356     \\\\\n",
       "\\textbf{DIS}   &      -1.6267  &        0.205     &    -7.944  &         0.000        &       -2.029    &       -1.224     \\\\\n",
       "\\textbf{B}     &       0.0093  &        0.003     &     3.279  &         0.001        &        0.004    &        0.015     \\\\\n",
       "\\textbf{LSTAT} &      -0.5612  &        0.051     &   -10.965  &         0.000        &       -0.662    &       -0.461     \\\\\n",
       "\\bottomrule\n",
       "\\end{tabular}\n",
       "\\begin{tabular}{lclc}\n",
       "\\textbf{Omnibus:}       & 161.740 & \\textbf{  Durbin-Watson:     } &     0.912  \\\\\n",
       "\\textbf{Prob(Omnibus):} &   0.000 & \\textbf{  Jarque-Bera (JB):  } &   592.437  \\\\\n",
       "\\textbf{Skew:}          &   1.436 & \\textbf{  Prob(JB):          } & 2.26e-129  \\\\\n",
       "\\textbf{Kurtosis:}      &   7.455 & \\textbf{  Cond. No.          } &  7.91e+03  \\\\\n",
       "\\bottomrule\n",
       "\\end{tabular}\n",
       "%\\caption{OLS Regression Results}\n",
       "\\end{center}\n",
       "\n",
       "Notes: \\newline\n",
       " [1] Standard Errors assume that the covariance matrix of the errors is correctly specified. \\newline\n",
       " [2] The condition number is large, 7.91e+03. This might indicate that there are \\newline\n",
       " strong multicollinearity or other numerical problems."
      ],
      "text/plain": [
       "<class 'statsmodels.iolib.summary.Summary'>\n",
       "\"\"\"\n",
       "                            OLS Regression Results                            \n",
       "==============================================================================\n",
       "Dep. Variable:                  PRICE   R-squared:                       0.695\n",
       "Model:                            OLS   Adj. R-squared:                  0.690\n",
       "Method:                 Least Squares   F-statistic:                     141.4\n",
       "Date:                Wed, 17 Apr 2024   Prob (F-statistic):          7.38e-123\n",
       "Time:                        10:59:22   Log-Likelihood:                -1540.0\n",
       "No. Observations:                 506   AIC:                             3098.\n",
       "Df Residuals:                     497   BIC:                             3136.\n",
       "Df Model:                           8                                         \n",
       "Covariance Type:            nonrobust                                         \n",
       "==============================================================================\n",
       "                 coef    std err          t      P>|t|      [0.025      0.975]\n",
       "------------------------------------------------------------------------------\n",
       "const         10.0383      4.289      2.340      0.020       1.612      18.465\n",
       "CRIM          -0.1053      0.032     -3.329      0.001      -0.167      -0.043\n",
       "ZN             0.0690      0.014      5.069      0.000       0.042       0.096\n",
       "INDUS         -0.1334      0.057     -2.331      0.020      -0.246      -0.021\n",
       "NOX           -8.6681      3.656     -2.371      0.018     -15.852      -1.485\n",
       "RM             4.5071      0.432     10.430      0.000       3.658       5.356\n",
       "DIS           -1.6267      0.205     -7.944      0.000      -2.029      -1.224\n",
       "B              0.0093      0.003      3.279      0.001       0.004       0.015\n",
       "LSTAT         -0.5612      0.051    -10.965      0.000      -0.662      -0.461\n",
       "==============================================================================\n",
       "Omnibus:                      161.740   Durbin-Watson:                   0.912\n",
       "Prob(Omnibus):                  0.000   Jarque-Bera (JB):              592.437\n",
       "Skew:                           1.436   Prob(JB):                    2.26e-129\n",
       "Kurtosis:                       7.455   Cond. No.                     7.91e+03\n",
       "==============================================================================\n",
       "\n",
       "Notes:\n",
       "[1] Standard Errors assume that the covariance matrix of the errors is correctly specified.\n",
       "[2] The condition number is large, 7.91e+03. This might indicate that there are\n",
       "strong multicollinearity or other numerical problems.\n",
       "\"\"\""
      ]
     },
     "execution_count": 119,
     "metadata": {},
     "output_type": "execute_result"
    }
   ],
   "source": [
    "### Put your code here\n",
    "model_refined = OLS(labels, features_const.drop(labels = 'AGE',axis = 1)).fit()\n",
    "model_refined.summary()"
   ]
  },
  {
   "cell_type": "markdown",
   "metadata": {},
   "source": [
    "&#9989; **Question 3.7 (2 points)**: Discuss the difference in fit quality between the two fits. Did the second fit (with \"least important\" feature removed) outperform or underperform compared to the other? Describe how you evaluated the quality based on the fit statistics."
   ]
  },
  {
   "cell_type": "markdown",
   "metadata": {},
   "source": [
    "The R squared is constant between the models and the adjusted R^2 increased by 0.01. This indicates the model is more efficienct and about equal in prediction performance."
   ]
  },
  {
   "cell_type": "markdown",
   "metadata": {},
   "source": [
    "---\n",
    "### &#128721; STOP\n",
    "**Pause to commit your changes to your Git repository!**\n",
    "\n",
    "Take a moment to save your notebook, commit the changes to your Git repository using the commit message \"**Committing Part 3**\", and push the changes to GitHub.\n",
    "\n",
    "---"
   ]
  },
  {
   "cell_type": "markdown",
   "metadata": {},
   "source": [
    "---\n",
    "## Part 4: Perform a support vector machine (SVM) classification on data (19 points)"
   ]
  },
  {
   "cell_type": "markdown",
   "metadata": {},
   "source": [
    "The goal of this part is to do a support vector machine classification. We will classify male and female penguins based on the four features: `Culmen Length (mm)`, `Culmen Depth (mm)`, `Flipper Length (mm)`, `Body Mass (g)`. We will also perform a train-test split on the data first. You can download the dataset here:\n",
    "\n",
    "`https://raw.githubusercontent.com/yangy5/HWFiles/main/penguin.csv`"
   ]
  },
  {
   "cell_type": "markdown",
   "metadata": {},
   "source": [
    "&#9989; **Question 4.1 (3 point)**: **download the `.csv` file** and place it in the same directory as your notebook**, then **read in the `penguins.csv` dataset** and finally **display the first few rows of the data**."
   ]
  },
  {
   "cell_type": "code",
   "execution_count": null,
   "metadata": {},
   "outputs": [],
   "source": [
    "### Put your code here\n"
   ]
  },
  {
   "cell_type": "markdown",
   "metadata": {},
   "source": [
    "&#9989; **Question 4.2 (4 points)**: **Create two data structures** (e.g. dataframes) from your table: one called `labels` containing _only_ `Sex` and one called `features` containing _only_ `Culmen Length (mm)`, `Culmen Depth (mm)`, `Flipper Length (mm)`, and `Body Mass (g)`.\n",
    "\n",
    "Then, **perform a train-test-split** using functions we used in class. Use a `train_size` of `0.75` and `random_state` of `517`. You should now have a training and a testing set with \"labels\" and \"features\" each.\n",
    "\n",
    "**Syntax Note:** if you are using Pandas data frames for creating and storing your `labels` variable, you will need to make sure to use `['Sex']` for the single-column selection, not `[['Sex']]` as the latter will create a list of single-entry lists that the classification code you are going to use later will not like! "
   ]
  },
  {
   "cell_type": "code",
   "execution_count": null,
   "metadata": {},
   "outputs": [],
   "source": [
    "### Put your code here\n"
   ]
  },
  {
   "cell_type": "markdown",
   "metadata": {},
   "source": [
    "&#9989; **Question 4.3 (6 points)**: **Train an SVM classifier** using the `sklearn` `SVC` class on the dataset. Apply a `linear` kernel and set the hyperparameter `C=0.1`. **Fit the classifier** using the training set and then use the trained model to **predict labels** for the testing set. Finally, **display the fit statistics** using `confusion_matrix` and `classification_report`. "
   ]
  },
  {
   "cell_type": "code",
   "execution_count": null,
   "metadata": {},
   "outputs": [],
   "source": [
    "### Put your code here\n"
   ]
  },
  {
   "cell_type": "markdown",
   "metadata": {},
   "source": [
    "&#9989; **Question 4.4 (3 points)**: Analyze the results from your classification report and confusion matrix by addressing these three questions (provide at least one or two sentences for each response for full credit):\n",
    "\n",
    "* Describe your observations from the confusion matrix.\n",
    "* Would you evaluate this classifier as effective or ineffective?\n",
    "* Which metric from the classification report informed your decision?"
   ]
  },
  {
   "cell_type": "markdown",
   "metadata": {},
   "source": [
    "<font size=+3>&#9998;</font> Do This - Erase the contents of this cell an put your answer here."
   ]
  },
  {
   "cell_type": "markdown",
   "metadata": {},
   "source": [
    "&#9989; **Question 4.5 (3 points)**: We've been using machine learning terminology throughout the course. Please define the following concepts in a few sentences each:\n",
    "\n",
    "* What do \"labels\" and \"features\" mean?\n",
    "* Why are \"training sets\" and \"testing sets\" important?"
   ]
  },
  {
   "cell_type": "markdown",
   "metadata": {},
   "source": [
    "<font size=+3>&#9998;</font> Do This - Erase the contents of this cell an put your answer here."
   ]
  },
  {
   "cell_type": "markdown",
   "metadata": {},
   "source": [
    "---\n",
    "### &#128721; STOP\n",
    "**Pause to commit your changes to your Git repository!**\n",
    "\n",
    "Take a moment to save your notebook, commit the changes to your Git repository using the commit message \"**Committing Part 4**\", and push the changes to GitHub.\n",
    "\n",
    "---"
   ]
  },
  {
   "cell_type": "markdown",
   "metadata": {},
   "source": [
    "## You're done! Congrats on finishing your CMSE 202 Final!\n",
    "\n",
    "Make sure all of your changes to your repository are committed and pushed to GitHub. Also upload a copy of this notebook to the dropbox on D2L in case something went wrong with your repository or if you couldn't get the repository to work."
   ]
  }
 ],
 "metadata": {
  "kernelspec": {
   "display_name": "Python 3 (ipykernel)",
   "language": "python",
   "name": "python3"
  },
  "language_info": {
   "codemirror_mode": {
    "name": "ipython",
    "version": 3
   },
   "file_extension": ".py",
   "mimetype": "text/x-python",
   "name": "python",
   "nbconvert_exporter": "python",
   "pygments_lexer": "ipython3",
   "version": "3.11.5"
  }
 },
 "nbformat": 4,
 "nbformat_minor": 4
}
